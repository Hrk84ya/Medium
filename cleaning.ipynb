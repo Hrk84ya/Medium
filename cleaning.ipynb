{
 "cells": [
  {
   "cell_type": "markdown",
   "metadata": {},
   "source": [
    "# Cleaning"
   ]
  },
  {
   "cell_type": "code",
   "execution_count": 2,
   "metadata": {},
   "outputs": [],
   "source": [
    "# importing the necessary modules\n",
    "import pandas as pd\n",
    "import numpy as np\n",
    "import matplotlib.pyplot as plt\n"
   ]
  },
  {
   "cell_type": "code",
   "execution_count": 3,
   "metadata": {},
   "outputs": [],
   "source": [
    "# reading the csv file\n",
    "df=pd.read_csv('scraped_articles.csv')"
   ]
  },
  {
   "cell_type": "code",
   "execution_count": 4,
   "metadata": {},
   "outputs": [
    {
     "data": {
      "text/plain": [
       "(466, 7)"
      ]
     },
     "execution_count": 4,
     "metadata": {},
     "output_type": "execute_result"
    }
   ],
   "source": [
    "# checking the shape of the dataset\n",
    "df.shape"
   ]
  },
  {
   "cell_type": "code",
   "execution_count": 5,
   "metadata": {},
   "outputs": [
    {
     "data": {
      "application/vnd.microsoft.datawrangler.viewer.v0+json": {
       "columns": [
        {
         "name": "index",
         "rawType": "int64",
         "type": "integer"
        },
        {
         "name": "title",
         "rawType": "object",
         "type": "string"
        },
        {
         "name": "subtitle",
         "rawType": "object",
         "type": "string"
        },
        {
         "name": "tags",
         "rawType": "object",
         "type": "string"
        },
        {
         "name": "title_character",
         "rawType": "int64",
         "type": "integer"
        },
        {
         "name": "image_count",
         "rawType": "int64",
         "type": "integer"
        },
        {
         "name": "duration",
         "rawType": "int64",
         "type": "integer"
        },
        {
         "name": "success",
         "rawType": "int64",
         "type": "integer"
        }
       ],
       "conversionMethod": "pd.DataFrame",
       "ref": "b6ae9e4a-6d54-4afc-bb0c-f03eb49e7b07",
       "rows": [
        [
         "0",
         "Natural Language Processing (NLP) for Beginners: Unlocking the Power of Text",
         "Written by Harsh Kumar",
         "[]",
         "76",
         "7",
         "5",
         "1"
        ],
        [
         "1",
         "AWS for Beginners: A Complete Introduction",
         "1.1. Create an AWS Account",
         "[]",
         "42",
         "7",
         "5",
         "1"
        ],
        [
         "2",
         "AWS EC2 vs. AWS Lambda: What’s Right for Your Application?",
         "Written by Harsh Kumar",
         "[]",
         "58",
         "8",
         "6",
         "1"
        ],
        [
         "3",
         "The Rise of AI in Everyday Life: Exploring the Impact and Future of Artificial Intelligence Integration",
         "Written by Harsh Kumar",
         "[]",
         "103",
         "8",
         "5",
         "1"
        ],
        [
         "4",
         "A Beginner’s Guide to Docker: Revolutionizing Software Development",
         "Docker Commands",
         "[]",
         "66",
         "7",
         "3",
         "1"
        ]
       ],
       "shape": {
        "columns": 7,
        "rows": 5
       }
      },
      "text/html": [
       "<div>\n",
       "<style scoped>\n",
       "    .dataframe tbody tr th:only-of-type {\n",
       "        vertical-align: middle;\n",
       "    }\n",
       "\n",
       "    .dataframe tbody tr th {\n",
       "        vertical-align: top;\n",
       "    }\n",
       "\n",
       "    .dataframe thead th {\n",
       "        text-align: right;\n",
       "    }\n",
       "</style>\n",
       "<table border=\"1\" class=\"dataframe\">\n",
       "  <thead>\n",
       "    <tr style=\"text-align: right;\">\n",
       "      <th></th>\n",
       "      <th>title</th>\n",
       "      <th>subtitle</th>\n",
       "      <th>tags</th>\n",
       "      <th>title_character</th>\n",
       "      <th>image_count</th>\n",
       "      <th>duration</th>\n",
       "      <th>success</th>\n",
       "    </tr>\n",
       "  </thead>\n",
       "  <tbody>\n",
       "    <tr>\n",
       "      <th>0</th>\n",
       "      <td>Natural Language Processing (NLP) for Beginner...</td>\n",
       "      <td>Written by Harsh Kumar</td>\n",
       "      <td>[]</td>\n",
       "      <td>76</td>\n",
       "      <td>7</td>\n",
       "      <td>5</td>\n",
       "      <td>1</td>\n",
       "    </tr>\n",
       "    <tr>\n",
       "      <th>1</th>\n",
       "      <td>AWS for Beginners: A Complete Introduction</td>\n",
       "      <td>1.1. Create an AWS Account</td>\n",
       "      <td>[]</td>\n",
       "      <td>42</td>\n",
       "      <td>7</td>\n",
       "      <td>5</td>\n",
       "      <td>1</td>\n",
       "    </tr>\n",
       "    <tr>\n",
       "      <th>2</th>\n",
       "      <td>AWS EC2 vs. AWS Lambda: What’s Right for Your ...</td>\n",
       "      <td>Written by Harsh Kumar</td>\n",
       "      <td>[]</td>\n",
       "      <td>58</td>\n",
       "      <td>8</td>\n",
       "      <td>6</td>\n",
       "      <td>1</td>\n",
       "    </tr>\n",
       "    <tr>\n",
       "      <th>3</th>\n",
       "      <td>The Rise of AI in Everyday Life: Exploring the...</td>\n",
       "      <td>Written by Harsh Kumar</td>\n",
       "      <td>[]</td>\n",
       "      <td>103</td>\n",
       "      <td>8</td>\n",
       "      <td>5</td>\n",
       "      <td>1</td>\n",
       "    </tr>\n",
       "    <tr>\n",
       "      <th>4</th>\n",
       "      <td>A Beginner’s Guide to Docker: Revolutionizing ...</td>\n",
       "      <td>Docker Commands</td>\n",
       "      <td>[]</td>\n",
       "      <td>66</td>\n",
       "      <td>7</td>\n",
       "      <td>3</td>\n",
       "      <td>1</td>\n",
       "    </tr>\n",
       "  </tbody>\n",
       "</table>\n",
       "</div>"
      ],
      "text/plain": [
       "                                               title  \\\n",
       "0  Natural Language Processing (NLP) for Beginner...   \n",
       "1         AWS for Beginners: A Complete Introduction   \n",
       "2  AWS EC2 vs. AWS Lambda: What’s Right for Your ...   \n",
       "3  The Rise of AI in Everyday Life: Exploring the...   \n",
       "4  A Beginner’s Guide to Docker: Revolutionizing ...   \n",
       "\n",
       "                     subtitle tags  title_character  image_count  duration  \\\n",
       "0      Written by Harsh Kumar   []               76            7         5   \n",
       "1  1.1. Create an AWS Account   []               42            7         5   \n",
       "2      Written by Harsh Kumar   []               58            8         6   \n",
       "3      Written by Harsh Kumar   []              103            8         5   \n",
       "4             Docker Commands   []               66            7         3   \n",
       "\n",
       "   success  \n",
       "0        1  \n",
       "1        1  \n",
       "2        1  \n",
       "3        1  \n",
       "4        1  "
      ]
     },
     "execution_count": 5,
     "metadata": {},
     "output_type": "execute_result"
    }
   ],
   "source": [
    "# first 5 rows of the dataframe\n",
    "df.head()"
   ]
  },
  {
   "cell_type": "code",
   "execution_count": 6,
   "metadata": {},
   "outputs": [
    {
     "name": "stdout",
     "output_type": "stream",
     "text": [
      "<class 'pandas.core.frame.DataFrame'>\n",
      "RangeIndex: 466 entries, 0 to 465\n",
      "Data columns (total 7 columns):\n",
      " #   Column           Non-Null Count  Dtype \n",
      "---  ------           --------------  ----- \n",
      " 0   title            466 non-null    object\n",
      " 1   subtitle         466 non-null    object\n",
      " 2   tags             466 non-null    object\n",
      " 3   title_character  466 non-null    int64 \n",
      " 4   image_count      466 non-null    int64 \n",
      " 5   duration         466 non-null    int64 \n",
      " 6   success          466 non-null    int64 \n",
      "dtypes: int64(4), object(3)\n",
      "memory usage: 25.6+ KB\n"
     ]
    }
   ],
   "source": [
    "# checking the info of the dataframe\n",
    "df.info()"
   ]
  },
  {
   "cell_type": "code",
   "execution_count": 7,
   "metadata": {},
   "outputs": [
    {
     "data": {
      "application/vnd.microsoft.datawrangler.viewer.v0+json": {
       "columns": [
        {
         "name": "index",
         "rawType": "int64",
         "type": "integer"
        },
        {
         "name": "title",
         "rawType": "object",
         "type": "string"
        },
        {
         "name": "subtitle",
         "rawType": "object",
         "type": "string"
        },
        {
         "name": "tags",
         "rawType": "object",
         "type": "string"
        },
        {
         "name": "title_character",
         "rawType": "int64",
         "type": "integer"
        },
        {
         "name": "image_count",
         "rawType": "int64",
         "type": "integer"
        },
        {
         "name": "duration",
         "rawType": "int64",
         "type": "integer"
        },
        {
         "name": "success",
         "rawType": "int64",
         "type": "integer"
        }
       ],
       "conversionMethod": "pd.DataFrame",
       "ref": "cbac82ea-e8f9-43d9-9c57-2fdbb695f18d",
       "rows": [
        [
         "461",
         "The Psychology of Emotions in Investing",
         "Written by Gylzen Tamang",
         "[]",
         "0",
         "4",
         "1",
         "0"
        ],
        [
         "462",
         "Neurons",
         "Written by Abhishek Gupta",
         "[]",
         "7",
         "4",
         "1",
         "1"
        ],
        [
         "463",
         "Teaching a Taxi to Drive with Q-Learning: A Reinforcement Learning Walkthrough",
         "Written by Khalid Sabban",
         "[]",
         "78",
         "5",
         "4",
         "1"
        ],
        [
         "464",
         "Insecurities and Wonders!",
         "Written by Swaroopa Naik",
         "[]",
         "25",
         "6",
         "2",
         "1"
        ],
        [
         "465",
         "Image Generation: VAE’s and GANs",
         "Written by Jordan",
         "[]",
         "32",
         "9",
         "9",
         "1"
        ]
       ],
       "shape": {
        "columns": 7,
        "rows": 5
       }
      },
      "text/html": [
       "<div>\n",
       "<style scoped>\n",
       "    .dataframe tbody tr th:only-of-type {\n",
       "        vertical-align: middle;\n",
       "    }\n",
       "\n",
       "    .dataframe tbody tr th {\n",
       "        vertical-align: top;\n",
       "    }\n",
       "\n",
       "    .dataframe thead th {\n",
       "        text-align: right;\n",
       "    }\n",
       "</style>\n",
       "<table border=\"1\" class=\"dataframe\">\n",
       "  <thead>\n",
       "    <tr style=\"text-align: right;\">\n",
       "      <th></th>\n",
       "      <th>title</th>\n",
       "      <th>subtitle</th>\n",
       "      <th>tags</th>\n",
       "      <th>title_character</th>\n",
       "      <th>image_count</th>\n",
       "      <th>duration</th>\n",
       "      <th>success</th>\n",
       "    </tr>\n",
       "  </thead>\n",
       "  <tbody>\n",
       "    <tr>\n",
       "      <th>461</th>\n",
       "      <td>The Psychology of Emotions in Investing</td>\n",
       "      <td>Written by Gylzen Tamang</td>\n",
       "      <td>[]</td>\n",
       "      <td>0</td>\n",
       "      <td>4</td>\n",
       "      <td>1</td>\n",
       "      <td>0</td>\n",
       "    </tr>\n",
       "    <tr>\n",
       "      <th>462</th>\n",
       "      <td>Neurons</td>\n",
       "      <td>Written by Abhishek Gupta</td>\n",
       "      <td>[]</td>\n",
       "      <td>7</td>\n",
       "      <td>4</td>\n",
       "      <td>1</td>\n",
       "      <td>1</td>\n",
       "    </tr>\n",
       "    <tr>\n",
       "      <th>463</th>\n",
       "      <td>Teaching a Taxi to Drive with Q-Learning: A Re...</td>\n",
       "      <td>Written by Khalid Sabban</td>\n",
       "      <td>[]</td>\n",
       "      <td>78</td>\n",
       "      <td>5</td>\n",
       "      <td>4</td>\n",
       "      <td>1</td>\n",
       "    </tr>\n",
       "    <tr>\n",
       "      <th>464</th>\n",
       "      <td>Insecurities and Wonders!</td>\n",
       "      <td>Written by Swaroopa Naik</td>\n",
       "      <td>[]</td>\n",
       "      <td>25</td>\n",
       "      <td>6</td>\n",
       "      <td>2</td>\n",
       "      <td>1</td>\n",
       "    </tr>\n",
       "    <tr>\n",
       "      <th>465</th>\n",
       "      <td>Image Generation: VAE’s and GANs</td>\n",
       "      <td>Written by Jordan</td>\n",
       "      <td>[]</td>\n",
       "      <td>32</td>\n",
       "      <td>9</td>\n",
       "      <td>9</td>\n",
       "      <td>1</td>\n",
       "    </tr>\n",
       "  </tbody>\n",
       "</table>\n",
       "</div>"
      ],
      "text/plain": [
       "                                                 title  \\\n",
       "461            The Psychology of Emotions in Investing   \n",
       "462                                            Neurons   \n",
       "463  Teaching a Taxi to Drive with Q-Learning: A Re...   \n",
       "464                          Insecurities and Wonders!   \n",
       "465                   Image Generation: VAE’s and GANs   \n",
       "\n",
       "                      subtitle tags  title_character  image_count  duration  \\\n",
       "461   Written by Gylzen Tamang   []                0            4         1   \n",
       "462  Written by Abhishek Gupta   []                7            4         1   \n",
       "463   Written by Khalid Sabban   []               78            5         4   \n",
       "464   Written by Swaroopa Naik   []               25            6         2   \n",
       "465          Written by Jordan   []               32            9         9   \n",
       "\n",
       "     success  \n",
       "461        0  \n",
       "462        1  \n",
       "463        1  \n",
       "464        1  \n",
       "465        1  "
      ]
     },
     "execution_count": 7,
     "metadata": {},
     "output_type": "execute_result"
    }
   ],
   "source": [
    "# last 5 values of the dataframe\n",
    "df.tail()"
   ]
  },
  {
   "cell_type": "code",
   "execution_count": 8,
   "metadata": {},
   "outputs": [
    {
     "data": {
      "application/vnd.microsoft.datawrangler.viewer.v0+json": {
       "columns": [
        {
         "name": "index",
         "rawType": "object",
         "type": "string"
        },
        {
         "name": "title_character",
         "rawType": "float64",
         "type": "float"
        },
        {
         "name": "image_count",
         "rawType": "float64",
         "type": "float"
        },
        {
         "name": "duration",
         "rawType": "float64",
         "type": "float"
        },
        {
         "name": "success",
         "rawType": "float64",
         "type": "float"
        }
       ],
       "conversionMethod": "pd.DataFrame",
       "ref": "a52080fd-7185-4953-925e-5f7f90055034",
       "rows": [
        [
         "count",
         "466.0",
         "466.0",
         "466.0",
         "466.0"
        ],
        [
         "mean",
         "53.26394849785408",
         "6.036480686695279",
         "4.165236051502146",
         "0.9399141630901288"
        ],
        [
         "std",
         "24.277806774813723",
         "2.5120697152875606",
         "3.3312714560738392",
         "0.23790120189585395"
        ],
        [
         "min",
         "0.0",
         "4.0",
         "0.0",
         "0.0"
        ],
        [
         "25%",
         "38.0",
         "5.0",
         "2.0",
         "1.0"
        ],
        [
         "50%",
         "53.0",
         "5.0",
         "4.0",
         "1.0"
        ],
        [
         "75%",
         "68.0",
         "7.0",
         "5.0",
         "1.0"
        ],
        [
         "max",
         "285.0",
         "29.0",
         "34.0",
         "1.0"
        ]
       ],
       "shape": {
        "columns": 4,
        "rows": 8
       }
      },
      "text/html": [
       "<div>\n",
       "<style scoped>\n",
       "    .dataframe tbody tr th:only-of-type {\n",
       "        vertical-align: middle;\n",
       "    }\n",
       "\n",
       "    .dataframe tbody tr th {\n",
       "        vertical-align: top;\n",
       "    }\n",
       "\n",
       "    .dataframe thead th {\n",
       "        text-align: right;\n",
       "    }\n",
       "</style>\n",
       "<table border=\"1\" class=\"dataframe\">\n",
       "  <thead>\n",
       "    <tr style=\"text-align: right;\">\n",
       "      <th></th>\n",
       "      <th>title_character</th>\n",
       "      <th>image_count</th>\n",
       "      <th>duration</th>\n",
       "      <th>success</th>\n",
       "    </tr>\n",
       "  </thead>\n",
       "  <tbody>\n",
       "    <tr>\n",
       "      <th>count</th>\n",
       "      <td>466.000000</td>\n",
       "      <td>466.000000</td>\n",
       "      <td>466.000000</td>\n",
       "      <td>466.000000</td>\n",
       "    </tr>\n",
       "    <tr>\n",
       "      <th>mean</th>\n",
       "      <td>53.263948</td>\n",
       "      <td>6.036481</td>\n",
       "      <td>4.165236</td>\n",
       "      <td>0.939914</td>\n",
       "    </tr>\n",
       "    <tr>\n",
       "      <th>std</th>\n",
       "      <td>24.277807</td>\n",
       "      <td>2.512070</td>\n",
       "      <td>3.331271</td>\n",
       "      <td>0.237901</td>\n",
       "    </tr>\n",
       "    <tr>\n",
       "      <th>min</th>\n",
       "      <td>0.000000</td>\n",
       "      <td>4.000000</td>\n",
       "      <td>0.000000</td>\n",
       "      <td>0.000000</td>\n",
       "    </tr>\n",
       "    <tr>\n",
       "      <th>25%</th>\n",
       "      <td>38.000000</td>\n",
       "      <td>5.000000</td>\n",
       "      <td>2.000000</td>\n",
       "      <td>1.000000</td>\n",
       "    </tr>\n",
       "    <tr>\n",
       "      <th>50%</th>\n",
       "      <td>53.000000</td>\n",
       "      <td>5.000000</td>\n",
       "      <td>4.000000</td>\n",
       "      <td>1.000000</td>\n",
       "    </tr>\n",
       "    <tr>\n",
       "      <th>75%</th>\n",
       "      <td>68.000000</td>\n",
       "      <td>7.000000</td>\n",
       "      <td>5.000000</td>\n",
       "      <td>1.000000</td>\n",
       "    </tr>\n",
       "    <tr>\n",
       "      <th>max</th>\n",
       "      <td>285.000000</td>\n",
       "      <td>29.000000</td>\n",
       "      <td>34.000000</td>\n",
       "      <td>1.000000</td>\n",
       "    </tr>\n",
       "  </tbody>\n",
       "</table>\n",
       "</div>"
      ],
      "text/plain": [
       "       title_character  image_count    duration     success\n",
       "count       466.000000   466.000000  466.000000  466.000000\n",
       "mean         53.263948     6.036481    4.165236    0.939914\n",
       "std          24.277807     2.512070    3.331271    0.237901\n",
       "min           0.000000     4.000000    0.000000    0.000000\n",
       "25%          38.000000     5.000000    2.000000    1.000000\n",
       "50%          53.000000     5.000000    4.000000    1.000000\n",
       "75%          68.000000     7.000000    5.000000    1.000000\n",
       "max         285.000000    29.000000   34.000000    1.000000"
      ]
     },
     "execution_count": 8,
     "metadata": {},
     "output_type": "execute_result"
    }
   ],
   "source": [
    "# five-point summary of the dataframe\n",
    "df.describe()"
   ]
  },
  {
   "cell_type": "code",
   "execution_count": 9,
   "metadata": {},
   "outputs": [
    {
     "data": {
      "text/plain": [
       "title              0\n",
       "subtitle           0\n",
       "tags               0\n",
       "title_character    0\n",
       "image_count        0\n",
       "duration           0\n",
       "success            0\n",
       "dtype: int64"
      ]
     },
     "execution_count": 9,
     "metadata": {},
     "output_type": "execute_result"
    }
   ],
   "source": [
    "# checking for missing values in the dataset\n",
    "df.isnull().sum()"
   ]
  },
  {
   "cell_type": "code",
   "execution_count": 10,
   "metadata": {},
   "outputs": [
    {
     "data": {
      "text/plain": [
       "46"
      ]
     },
     "execution_count": 10,
     "metadata": {},
     "output_type": "execute_result"
    }
   ],
   "source": [
    "# checking for duplicates in the \"Title\" column\n",
    "df['title'].duplicated().sum()"
   ]
  },
  {
   "cell_type": "code",
   "execution_count": 11,
   "metadata": {},
   "outputs": [],
   "source": [
    "# remove duplicates in the \"Title\" column\n",
    "df.drop_duplicates(subset='title', keep='first', inplace=True)"
   ]
  },
  {
   "cell_type": "code",
   "execution_count": 12,
   "metadata": {},
   "outputs": [
    {
     "data": {
      "text/plain": [
       "(420, 7)"
      ]
     },
     "execution_count": 12,
     "metadata": {},
     "output_type": "execute_result"
    }
   ],
   "source": [
    "df.shape"
   ]
  },
  {
   "cell_type": "code",
   "execution_count": 13,
   "metadata": {},
   "outputs": [
    {
     "data": {
      "image/png": "[encoded data removed]",
      "text/plain": [
       "<Figure size 1000x600 with 1 Axes>"
      ]
     },
     "metadata": {},
     "output_type": "display_data"
    }
   ],
   "source": [
    "# Plotting the relationship between 'duration' and 'success'\n",
    "plt.figure(figsize=(10, 6))\n",
    "plt.scatter(df['duration'], df['success'], color='red')\n",
    "plt.title('Relationship between Duration and Success')\n",
    "plt.xlabel('Duration')\n",
    "plt.ylabel('Success')\n",
    "plt.show()"
   ]
  },
  {
   "cell_type": "code",
   "execution_count": 14,
   "metadata": {},
   "outputs": [
    {
     "data": {
      "image/png": "[encoded data removed]",
      "text/plain": [
       "<Figure size 1000x600 with 1 Axes>"
      ]
     },
     "metadata": {},
     "output_type": "display_data"
    }
   ],
   "source": [
    "plt.figure(figsize=(10, 6))\n",
    "plt.hist(df['title_character'], bins=20, color='blue', edgecolor='black')\n",
    "plt.title('Distribution of Title Characters')\n",
    "plt.xlabel('Number of Characters in Title')\n",
    "plt.ylabel('Frequency')\n",
    "plt.show()"
   ]
  },
  {
   "cell_type": "code",
   "execution_count": 16,
   "metadata": {},
   "outputs": [
    {
     "data": {
      "image/png": "[encoded data removed]",
      "text/plain": [
       "<Figure size 1200x800 with 1 Axes>"
      ]
     },
     "metadata": {},
     "output_type": "display_data"
    }
   ],
   "source": [
    "plt.figure(figsize=(12, 8))\n",
    "df.boxplot(column=['title_character', 'image_count', 'duration', 'success'])\n",
    "plt.title('Boxplot of Numerical Columns')\n",
    "plt.ylabel('Values')\n",
    "plt.show()"
   ]
  },
  {
   "cell_type": "code",
   "execution_count": null,
   "metadata": {},
   "outputs": [],
   "source": [
    "\n"
   ]
  },
  {
   "cell_type": "code",
   "execution_count": null,
   "metadata": {},
   "outputs": [],
   "source": []
  }
 ],
 "metadata": {
  "kernelspec": {
   "display_name": "base",
   "language": "python",
   "name": "python3"
  },
  "language_info": {
   "codemirror_mode": {
    "name": "ipython",
    "version": 3
   },
   "file_extension": ".py",
   "mimetype": "text/x-python",
   "name": "python",
   "nbconvert_exporter": "python",
   "pygments_lexer": "ipython3",
   "version": "3.12.4"
  }
 },
 "nbformat": 4,
 "nbformat_minor": 2
}
